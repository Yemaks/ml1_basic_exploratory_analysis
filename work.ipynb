{
 "cells": [
  {
   "cell_type": "code",
   "execution_count": 469,
   "metadata": {
    "ExecuteTime": {
     "end_time": "2023-05-22T09:51:30.639118200Z",
     "start_time": "2023-05-22T09:51:30.360510500Z"
    },
    "collapsed": false
   },
   "outputs": [],
   "source": [
    "import pandas as pd\n",
    "import numpy as np"
   ]
  },
  {
   "cell_type": "code",
   "execution_count": 470,
   "metadata": {
    "ExecuteTime": {
     "end_time": "2023-05-22T09:51:31.599273500Z",
     "start_time": "2023-05-22T09:51:31.113968400Z"
    },
    "collapsed": false
   },
   "outputs": [],
   "source": [
    "df = pd.read_csv(\"./dataset/Spotify_Youtube.csv\")"
   ]
  },
  {
   "cell_type": "code",
   "execution_count": 471,
   "metadata": {
    "ExecuteTime": {
     "end_time": "2023-05-22T09:51:32.243645600Z",
     "start_time": "2023-05-22T09:51:32.227638100Z"
    },
    "collapsed": false
   },
   "outputs": [
    {
     "data": {
      "text/html": [
       "<div>\n",
       "<style scoped>\n",
       "    .dataframe tbody tr th:only-of-type {\n",
       "        vertical-align: middle;\n",
       "    }\n",
       "\n",
       "    .dataframe tbody tr th {\n",
       "        vertical-align: top;\n",
       "    }\n",
       "\n",
       "    .dataframe thead th {\n",
       "        text-align: right;\n",
       "    }\n",
       "</style>\n",
       "<table border=\"1\" class=\"dataframe\">\n",
       "  <thead>\n",
       "    <tr style=\"text-align: right;\">\n",
       "      <th></th>\n",
       "      <th>Unnamed: 0</th>\n",
       "      <th>Artist</th>\n",
       "      <th>Url_spotify</th>\n",
       "      <th>Track</th>\n",
       "      <th>Album</th>\n",
       "      <th>Album_type</th>\n",
       "      <th>Uri</th>\n",
       "      <th>Danceability</th>\n",
       "      <th>Energy</th>\n",
       "      <th>Key</th>\n",
       "      <th>...</th>\n",
       "      <th>Url_youtube</th>\n",
       "      <th>Title</th>\n",
       "      <th>Channel</th>\n",
       "      <th>Views</th>\n",
       "      <th>Likes</th>\n",
       "      <th>Comments</th>\n",
       "      <th>Description</th>\n",
       "      <th>Licensed</th>\n",
       "      <th>official_video</th>\n",
       "      <th>Stream</th>\n",
       "    </tr>\n",
       "  </thead>\n",
       "  <tbody>\n",
       "    <tr>\n",
       "      <th>0</th>\n",
       "      <td>0</td>\n",
       "      <td>Gorillaz</td>\n",
       "      <td>https://open.spotify.com/artist/3AA28KZvwAUcZu...</td>\n",
       "      <td>Feel Good Inc.</td>\n",
       "      <td>Demon Days</td>\n",
       "      <td>album</td>\n",
       "      <td>spotify:track:0d28khcov6AiegSCpG5TuT</td>\n",
       "      <td>0.818</td>\n",
       "      <td>0.705</td>\n",
       "      <td>6.0</td>\n",
       "      <td>...</td>\n",
       "      <td>https://www.youtube.com/watch?v=HyHNuVaZJ-k</td>\n",
       "      <td>Gorillaz - Feel Good Inc. (Official Video)</td>\n",
       "      <td>Gorillaz</td>\n",
       "      <td>693555221.0</td>\n",
       "      <td>6220896.0</td>\n",
       "      <td>169907.0</td>\n",
       "      <td>Official HD Video for Gorillaz' fantastic trac...</td>\n",
       "      <td>True</td>\n",
       "      <td>True</td>\n",
       "      <td>1.040235e+09</td>\n",
       "    </tr>\n",
       "    <tr>\n",
       "      <th>1</th>\n",
       "      <td>1</td>\n",
       "      <td>Gorillaz</td>\n",
       "      <td>https://open.spotify.com/artist/3AA28KZvwAUcZu...</td>\n",
       "      <td>Rhinestone Eyes</td>\n",
       "      <td>Plastic Beach</td>\n",
       "      <td>album</td>\n",
       "      <td>spotify:track:1foMv2HQwfQ2vntFf9HFeG</td>\n",
       "      <td>0.676</td>\n",
       "      <td>0.703</td>\n",
       "      <td>8.0</td>\n",
       "      <td>...</td>\n",
       "      <td>https://www.youtube.com/watch?v=yYDmaexVHic</td>\n",
       "      <td>Gorillaz - Rhinestone Eyes [Storyboard Film] (...</td>\n",
       "      <td>Gorillaz</td>\n",
       "      <td>72011645.0</td>\n",
       "      <td>1079128.0</td>\n",
       "      <td>31003.0</td>\n",
       "      <td>The official video for Gorillaz - Rhinestone E...</td>\n",
       "      <td>True</td>\n",
       "      <td>True</td>\n",
       "      <td>3.100837e+08</td>\n",
       "    </tr>\n",
       "    <tr>\n",
       "      <th>2</th>\n",
       "      <td>2</td>\n",
       "      <td>Gorillaz</td>\n",
       "      <td>https://open.spotify.com/artist/3AA28KZvwAUcZu...</td>\n",
       "      <td>New Gold (feat. Tame Impala and Bootie Brown)</td>\n",
       "      <td>New Gold (feat. Tame Impala and Bootie Brown)</td>\n",
       "      <td>single</td>\n",
       "      <td>spotify:track:64dLd6rVqDLtkXFYrEUHIU</td>\n",
       "      <td>0.695</td>\n",
       "      <td>0.923</td>\n",
       "      <td>1.0</td>\n",
       "      <td>...</td>\n",
       "      <td>https://www.youtube.com/watch?v=qJa-VFwPpYA</td>\n",
       "      <td>Gorillaz - New Gold ft. Tame Impala &amp; Bootie B...</td>\n",
       "      <td>Gorillaz</td>\n",
       "      <td>8435055.0</td>\n",
       "      <td>282142.0</td>\n",
       "      <td>7399.0</td>\n",
       "      <td>Gorillaz - New Gold ft. Tame Impala &amp; Bootie B...</td>\n",
       "      <td>True</td>\n",
       "      <td>True</td>\n",
       "      <td>6.306347e+07</td>\n",
       "    </tr>\n",
       "    <tr>\n",
       "      <th>3</th>\n",
       "      <td>3</td>\n",
       "      <td>Gorillaz</td>\n",
       "      <td>https://open.spotify.com/artist/3AA28KZvwAUcZu...</td>\n",
       "      <td>On Melancholy Hill</td>\n",
       "      <td>Plastic Beach</td>\n",
       "      <td>album</td>\n",
       "      <td>spotify:track:0q6LuUqGLUiCPP1cbdwFs3</td>\n",
       "      <td>0.689</td>\n",
       "      <td>0.739</td>\n",
       "      <td>2.0</td>\n",
       "      <td>...</td>\n",
       "      <td>https://www.youtube.com/watch?v=04mfKJWDSzI</td>\n",
       "      <td>Gorillaz - On Melancholy Hill (Official Video)</td>\n",
       "      <td>Gorillaz</td>\n",
       "      <td>211754952.0</td>\n",
       "      <td>1788577.0</td>\n",
       "      <td>55229.0</td>\n",
       "      <td>Follow Gorillaz online:\\nhttp://gorillaz.com \\...</td>\n",
       "      <td>True</td>\n",
       "      <td>True</td>\n",
       "      <td>4.346636e+08</td>\n",
       "    </tr>\n",
       "    <tr>\n",
       "      <th>4</th>\n",
       "      <td>4</td>\n",
       "      <td>Gorillaz</td>\n",
       "      <td>https://open.spotify.com/artist/3AA28KZvwAUcZu...</td>\n",
       "      <td>Clint Eastwood</td>\n",
       "      <td>Gorillaz</td>\n",
       "      <td>album</td>\n",
       "      <td>spotify:track:7yMiX7n9SBvadzox8T5jzT</td>\n",
       "      <td>0.663</td>\n",
       "      <td>0.694</td>\n",
       "      <td>10.0</td>\n",
       "      <td>...</td>\n",
       "      <td>https://www.youtube.com/watch?v=1V_xRb0x9aw</td>\n",
       "      <td>Gorillaz - Clint Eastwood (Official Video)</td>\n",
       "      <td>Gorillaz</td>\n",
       "      <td>618480958.0</td>\n",
       "      <td>6197318.0</td>\n",
       "      <td>155930.0</td>\n",
       "      <td>The official music video for Gorillaz - Clint ...</td>\n",
       "      <td>True</td>\n",
       "      <td>True</td>\n",
       "      <td>6.172597e+08</td>\n",
       "    </tr>\n",
       "  </tbody>\n",
       "</table>\n",
       "<p>5 rows × 28 columns</p>\n",
       "</div>"
      ],
      "text/plain": [
       "   Unnamed: 0    Artist                                        Url_spotify   \n",
       "0           0  Gorillaz  https://open.spotify.com/artist/3AA28KZvwAUcZu...  \\\n",
       "1           1  Gorillaz  https://open.spotify.com/artist/3AA28KZvwAUcZu...   \n",
       "2           2  Gorillaz  https://open.spotify.com/artist/3AA28KZvwAUcZu...   \n",
       "3           3  Gorillaz  https://open.spotify.com/artist/3AA28KZvwAUcZu...   \n",
       "4           4  Gorillaz  https://open.spotify.com/artist/3AA28KZvwAUcZu...   \n",
       "\n",
       "                                           Track   \n",
       "0                                 Feel Good Inc.  \\\n",
       "1                                Rhinestone Eyes   \n",
       "2  New Gold (feat. Tame Impala and Bootie Brown)   \n",
       "3                             On Melancholy Hill   \n",
       "4                                 Clint Eastwood   \n",
       "\n",
       "                                           Album Album_type   \n",
       "0                                     Demon Days      album  \\\n",
       "1                                  Plastic Beach      album   \n",
       "2  New Gold (feat. Tame Impala and Bootie Brown)     single   \n",
       "3                                  Plastic Beach      album   \n",
       "4                                       Gorillaz      album   \n",
       "\n",
       "                                    Uri  Danceability  Energy   Key  ...   \n",
       "0  spotify:track:0d28khcov6AiegSCpG5TuT         0.818   0.705   6.0  ...  \\\n",
       "1  spotify:track:1foMv2HQwfQ2vntFf9HFeG         0.676   0.703   8.0  ...   \n",
       "2  spotify:track:64dLd6rVqDLtkXFYrEUHIU         0.695   0.923   1.0  ...   \n",
       "3  spotify:track:0q6LuUqGLUiCPP1cbdwFs3         0.689   0.739   2.0  ...   \n",
       "4  spotify:track:7yMiX7n9SBvadzox8T5jzT         0.663   0.694  10.0  ...   \n",
       "\n",
       "                                   Url_youtube   \n",
       "0  https://www.youtube.com/watch?v=HyHNuVaZJ-k  \\\n",
       "1  https://www.youtube.com/watch?v=yYDmaexVHic   \n",
       "2  https://www.youtube.com/watch?v=qJa-VFwPpYA   \n",
       "3  https://www.youtube.com/watch?v=04mfKJWDSzI   \n",
       "4  https://www.youtube.com/watch?v=1V_xRb0x9aw   \n",
       "\n",
       "                                               Title   Channel        Views   \n",
       "0         Gorillaz - Feel Good Inc. (Official Video)  Gorillaz  693555221.0  \\\n",
       "1  Gorillaz - Rhinestone Eyes [Storyboard Film] (...  Gorillaz   72011645.0   \n",
       "2  Gorillaz - New Gold ft. Tame Impala & Bootie B...  Gorillaz    8435055.0   \n",
       "3     Gorillaz - On Melancholy Hill (Official Video)  Gorillaz  211754952.0   \n",
       "4         Gorillaz - Clint Eastwood (Official Video)  Gorillaz  618480958.0   \n",
       "\n",
       "       Likes  Comments                                        Description   \n",
       "0  6220896.0  169907.0  Official HD Video for Gorillaz' fantastic trac...  \\\n",
       "1  1079128.0   31003.0  The official video for Gorillaz - Rhinestone E...   \n",
       "2   282142.0    7399.0  Gorillaz - New Gold ft. Tame Impala & Bootie B...   \n",
       "3  1788577.0   55229.0  Follow Gorillaz online:\\nhttp://gorillaz.com \\...   \n",
       "4  6197318.0  155930.0  The official music video for Gorillaz - Clint ...   \n",
       "\n",
       "   Licensed official_video        Stream  \n",
       "0      True           True  1.040235e+09  \n",
       "1      True           True  3.100837e+08  \n",
       "2      True           True  6.306347e+07  \n",
       "3      True           True  4.346636e+08  \n",
       "4      True           True  6.172597e+08  \n",
       "\n",
       "[5 rows x 28 columns]"
      ]
     },
     "execution_count": 471,
     "metadata": {},
     "output_type": "execute_result"
    }
   ],
   "source": [
    "df.head()"
   ]
  },
  {
   "attachments": {},
   "cell_type": "markdown",
   "metadata": {
    "collapsed": false
   },
   "source": [
    "### Структура датасета:\n",
    "\n",
    "----\n",
    "\n",
    "26 признаков, описание которых следует ниже:\n",
    "\n",
    "\n",
    "\n",
    "- **Track**: name of the song, as visible on the Spotify platform.\n",
    "- **Artist**: name of the artist.\n",
    "- **Url_spotify**: the Url of the artist.\n",
    "- **Album**: the album in wich the song is contained on Spotify.\n",
    "- **Album_type**: indicates if the song is relesead on Spotify as a single or contained in an album.\n",
    "- **Uri**: a spotify link used to find the song through the API.\n",
    "- **Danceability**: describes how suitable a track is for dancing based on a combination of musical elements including tempo, rhythm stability, beat strength, and overall regularity. A value of 0.0 is least danceable and 1.0 is most danceable.\n",
    "- **Energy:** is a measure from 0.0 to 1.0 and represents a perceptual measure of intensity and activity. Typically, energetic tracks feel fast, loud, and noisy. For example, death metal has high energy, while a Bach prelude scores low on the scale. Perceptual features contributing to this attribute include dynamic range, perceived loudness, timbre, onset rate, and general entropy.\n",
    "- **Key**: the key the track is in. Integers map to pitches using standard Pitch Class notation. E.g. 0 = C, 1 = C♯/D♭, 2 = D, and so on. If no key was detected, the value is -1.\n",
    "- **Loudness**: the overall loudness of a track in decibels (dB). Loudness values are averaged across the entire track and are useful for comparing relative loudness of tracks. Loudness is the quality of a sound that is the primary psychological correlate of physical strength (amplitude). Values typically range between -60 and 0 db.\n",
    "- **Speechiness**: detects the presence of spoken words in a track. The more exclusively speech-like the recording (e.g. talk show, audio book, poetry), the closer to 1.0 the attribute value. Values above 0.66 describe tracks that are probably made entirely of spoken words. Values between 0.33 and 0.66 describe tracks that may contain both music and speech, either in sections or layered, including such cases as rap music. Values below 0.33 most likely represent music and other non-speech-like tracks.\n",
    "- **Acousticness**: a confidence measure from 0.0 to 1.0 of whether the track is acoustic. 1.0 represents high confidence the track is acoustic.\n",
    "- **Instrumentalness**: predicts whether a track contains no vocals. \"Ooh\" and \"aah\" sounds are treated as instrumental in this context. Rap or spoken word tracks are clearly \"vocal\". The closer the instrumentalness value is to 1.0, the greater likelihood the track contains no vocal content. Values above 0.5 are intended to represent instrumental tracks, but confidence is higher as the value approaches 1.0.\n",
    "- **Liveness**: detects the presence of an audience in the recording. Higher liveness values represent an increased probability that the track was performed live. A value above 0.8 provides strong likelihood that the track is live.\n",
    "- **Valence**: a measure from 0.0 to 1.0 describing the musical positiveness conveyed by a track. Tracks with high valence sound more positive (e.g. happy, cheerful, euphoric), while tracks with low valence sound more negative (e.g. sad, depressed, angry).\n",
    "- **Tempo**: the overall estimated tempo of a track in beats per minute (BPM). In musical terminology, tempo is the speed or pace of a given piece and derives directly from the average beat duration.\n",
    "- **Duration_ms**: the duration of the track in milliseconds.\n",
    "- **Stream**: number of streams of the song on Spotify.\n",
    "- **Url_youtube**: url of the video linked to the song on Youtube, if it have any.\n",
    "- **Title**: title of the videoclip on youtube.\n",
    "- **Channel**: name of the channel that have published the video.\n",
    "- **Views**: number of views.\n",
    "- **Likes**: number of likes.\n",
    "- **Comments**: number of comments.\n",
    "- **Description**: description of the video on Youtube.\n",
    "- **Licensed**: Indicates whether the video represents licensed content, which means that the content was uploaded to a channel linked to a YouTube content partner and then claimed by that partner. official_video: boolean value that indicates if the video found is the official video of the song."
   ]
  },
  {
   "attachments": {},
   "cell_type": "markdown",
   "metadata": {
    "collapsed": false
   },
   "source": [
    "### Вопросы:"
   ]
  },
  {
   "attachments": {},
   "cell_type": "markdown",
   "metadata": {
    "collapsed": false
   },
   "source": [
    "#### 1. Какая песня является наиболее транслируемой в датасете (признак Stream)?"
   ]
  },
  {
   "cell_type": "code",
   "execution_count": 472,
   "metadata": {},
   "outputs": [],
   "source": [
    "def the_most(item, filter):\n",
    "    return df.sort_values(filter, ascending=False)[[item]].values[0][0]"
   ]
  },
  {
   "attachments": {},
   "cell_type": "markdown",
   "metadata": {},
   "source": [
    "#### Функция возвращает первый элемент из заданного столбца (item) после сортировки по убыванию по другому столбцу (filter).\n",
    "#### Функция с помощью метода sort_values сортирует датасет по колонке filter, после чего выводит значение нулевого элемента из колонки item с помощью метода values."
   ]
  },
  {
   "cell_type": "code",
   "execution_count": 473,
   "metadata": {
    "collapsed": false
   },
   "outputs": [
    {
     "data": {
      "text/plain": [
       "'Blinding Lights'"
      ]
     },
     "execution_count": 473,
     "metadata": {},
     "output_type": "execute_result"
    }
   ],
   "source": [
    "df['Track'].loc[[df['Stream'].idxmax()]]\n",
    "df.sort_values('Stream', ascending=False)[['Track']][:1]\n",
    "\n",
    "the_most('Track', 'Stream')"
   ]
  },
  {
   "attachments": {},
   "cell_type": "markdown",
   "metadata": {},
   "source": [
    "#### 1 способ: сначала с помощью df['Stream'].idxmax() найти индекс самой прослушиваемой песни, а после получить ее название с помощью метода loc[]\n",
    "#### 2 способ: отсортировать датасет по колонке 'Stream', после чего вывести столбец 'Track' из первой строки (т.е. название самого прослушиваемого трека)\n",
    "#### 3 способ: использовать функцию the_most сортируя колонку 'Track' по колонке 'Stream'"
   ]
  },
  {
   "attachments": {},
   "cell_type": "markdown",
   "metadata": {
    "collapsed": false
   },
   "source": [
    "#### 2. У какого исполнителя больше всего просмотров на YouTube?"
   ]
  },
  {
   "cell_type": "code",
   "execution_count": 474,
   "metadata": {},
   "outputs": [],
   "source": [
    "def the_most_pivot_sum(item, filter):\n",
    "    return pd.pivot_table(df, index = item, values = filter, aggfunc = np.sum).sort_values(by=[filter], ascending=False).index[0]"
   ]
  },
  {
   "attachments": {},
   "cell_type": "markdown",
   "metadata": {},
   "source": [
    "#### Функция производит агрегирование по столбцу (item) суммируя занчения столбца (filter) и возвращает первый элемент после сортировки столбца (filter) по убыванию\n",
    "#### Функция создает сводную таблциу индексируя по параметру item, производит суммирование значений из параметра filter, после чего сортирует таблице по убыванию и возвращает певрый элемент"
   ]
  },
  {
   "cell_type": "code",
   "execution_count": 475,
   "metadata": {},
   "outputs": [],
   "source": [
    "def the_most_pivot_mean(item, filter):\n",
    "    return pd.pivot_table(df, index = item, values = filter, aggfunc = np.mean).sort_values(by=[filter], ascending=False).index[0]"
   ]
  },
  {
   "attachments": {},
   "cell_type": "markdown",
   "metadata": {},
   "source": [
    "#### Функция производит агрегирование по столбцу (item) находя среднее по столбцу (filter) и возвращает первый элемент после сортировки столбца (filter) по убыванию\n",
    "#### Функция создает сводную таблциу индексируя по параметру item, ищет среднее арифметическое значение по параметру filter, после чего сортирует таблице по убыванию и возвращает певрый элемент"
   ]
  },
  {
   "cell_type": "code",
   "execution_count": 476,
   "metadata": {
    "collapsed": false
   },
   "outputs": [
    {
     "data": {
      "text/plain": [
       "'Ed Sheeran'"
      ]
     },
     "execution_count": 476,
     "metadata": {},
     "output_type": "execute_result"
    }
   ],
   "source": [
    "the_most_pivot_sum('Artist', 'Views')"
   ]
  },
  {
   "attachments": {},
   "cell_type": "markdown",
   "metadata": {},
   "source": [
    "#### Создал сводную таблицу из авторов и общего количества просмотров их песен на YouTube (на любых каналах), после чего отсортировал её по общему количеству просмотров и вывел первого исполнителя (как индекс нулевой строки этой таблицы) (Использовал функцию the_most_pivot_sum с параметрами 'Artist' и 'Views')"
   ]
  },
  {
   "attachments": {},
   "cell_type": "markdown",
   "metadata": {
    "collapsed": false
   },
   "source": [
    "#### 3. Какова средняя продолжительность всех песен в минутах?"
   ]
  },
  {
   "cell_type": "code",
   "execution_count": 477,
   "metadata": {
    "collapsed": false
   },
   "outputs": [
    {
     "data": {
      "text/plain": [
       "3.7452929836841085"
      ]
     },
     "execution_count": 477,
     "metadata": {},
     "output_type": "execute_result"
    }
   ],
   "source": [
    "df['Duration_ms'].mean()/60000"
   ]
  },
  {
   "attachments": {},
   "cell_type": "markdown",
   "metadata": {},
   "source": [
    "#### Считаем среднюю продолжительность песни с помощью фунции mean(), после чего делим её на 1000 (что бы получить секунды) и на 60 (чтобы получить минуты)"
   ]
  },
  {
   "attachments": {},
   "cell_type": "markdown",
   "metadata": {
    "collapsed": false
   },
   "source": [
    "#### 4. Какая нота (Key) чаще всего используется в песнях?"
   ]
  },
  {
   "cell_type": "code",
   "execution_count": 478,
   "metadata": {
    "collapsed": false
   },
   "outputs": [
    {
     "data": {
      "text/plain": [
       "0.0"
      ]
     },
     "execution_count": 478,
     "metadata": {},
     "output_type": "execute_result"
    }
   ],
   "source": [
    "df['Key'].mode()[0]"
   ]
  },
  {
   "attachments": {},
   "cell_type": "markdown",
   "metadata": {},
   "source": [
    "#### С помощью функции mode() находим самую часто встречающуюся ноту. Это нота C"
   ]
  },
  {
   "attachments": {},
   "cell_type": "markdown",
   "metadata": {
    "collapsed": false
   },
   "source": [
    "#### 5. Какая самая популярная песня на YouTube?"
   ]
  },
  {
   "cell_type": "code",
   "execution_count": 479,
   "metadata": {
    "collapsed": false
   },
   "outputs": [
    {
     "data": {
      "text/plain": [
       "'Despacito'"
      ]
     },
     "execution_count": 479,
     "metadata": {},
     "output_type": "execute_result"
    }
   ],
   "source": [
    "the_most('Track', 'Views')"
   ]
  },
  {
   "attachments": {},
   "cell_type": "markdown",
   "metadata": {},
   "source": [
    "#### Используем функцию the_most сортируя колонку 'Track' по колонке 'Views'"
   ]
  },
  {
   "attachments": {},
   "cell_type": "markdown",
   "metadata": {
    "collapsed": false
   },
   "source": [
    "#### 6. У какой песни самый высокий балл за танцевальность (danceability )?"
   ]
  },
  {
   "cell_type": "code",
   "execution_count": 480,
   "metadata": {
    "collapsed": false
   },
   "outputs": [
    {
     "data": {
      "text/plain": [
       "\"CAN'T TOUCH THIS\""
      ]
     },
     "execution_count": 480,
     "metadata": {},
     "output_type": "execute_result"
    }
   ],
   "source": [
    "the_most('Track', 'Danceability')"
   ]
  },
  {
   "attachments": {},
   "cell_type": "markdown",
   "metadata": {},
   "source": [
    "#### Используем функцию the_most сортируя колонку 'Track' по колонке 'Danceability'"
   ]
  },
  {
   "attachments": {},
   "cell_type": "markdown",
   "metadata": {
    "collapsed": false
   },
   "source": [
    "#### 7. У какой песни самый высокий показатель энергии (energy score)?"
   ]
  },
  {
   "cell_type": "code",
   "execution_count": 481,
   "metadata": {
    "collapsed": false
   },
   "outputs": [
    {
     "data": {
      "text/plain": [
       "'Rain and Thunderstorm, Pt. 7'"
      ]
     },
     "execution_count": 481,
     "metadata": {},
     "output_type": "execute_result"
    }
   ],
   "source": [
    "the_most('Track', 'Energy')"
   ]
  },
  {
   "attachments": {},
   "cell_type": "markdown",
   "metadata": {},
   "source": [
    "#### Используем функцию the_most сортируя колонку 'Track' по колонке 'Energy'"
   ]
  },
  {
   "attachments": {},
   "cell_type": "markdown",
   "metadata": {
    "collapsed": false
   },
   "source": [
    "#### 8. Какая песня имеет наивысший балл valence (valence score)?"
   ]
  },
  {
   "cell_type": "code",
   "execution_count": 482,
   "metadata": {
    "collapsed": false
   },
   "outputs": [
    {
     "data": {
      "text/plain": [
       "'Spider Dance'"
      ]
     },
     "execution_count": 482,
     "metadata": {},
     "output_type": "execute_result"
    }
   ],
   "source": [
    "the_most('Track', 'Valence')"
   ]
  },
  {
   "attachments": {},
   "cell_type": "markdown",
   "metadata": {},
   "source": [
    "#### Используем функцию the_most сортируя колонку 'Track' по колонке 'Valence'"
   ]
  },
  {
   "attachments": {},
   "cell_type": "markdown",
   "metadata": {
    "collapsed": false
   },
   "source": [
    "#### 9. Будут ли песни с более высокой «valence» (музыкальной позитивностью) более популярны как на Spotify, так и на YouTube? Чтобы ответить на этот вопрос, подсчитайте среднюю оценку «valence» для песен в верхнем квартиле «Streams» и «Views» и сравните ее с общей средней «valence»."
   ]
  },
  {
   "cell_type": "code",
   "execution_count": 483,
   "metadata": {},
   "outputs": [],
   "source": [
    "def top_percentage_mean(item, filter, percentage):\n",
    "    return df[df[filter] >= df[filter].quantile(percentage)][item].mean()"
   ]
  },
  {
   "attachments": {},
   "cell_type": "markdown",
   "metadata": {},
   "source": [
    "#### Функция с помощью метода quantile(percentage) получает значение для топ (1 - percentage) * 100 % параметра filter, после чего считает среднее по параметру item для топ (1 - percentage) * 100 % параметра item"
   ]
  },
  {
   "cell_type": "code",
   "execution_count": 484,
   "metadata": {
    "collapsed": false
   },
   "outputs": [
    {
     "data": {
      "text/plain": [
       "False"
      ]
     },
     "execution_count": 484,
     "metadata": {},
     "output_type": "execute_result"
    }
   ],
   "source": [
    "(top_percentage_mean('Valence', 'Stream', 0.75) > df['Valence'].mean() and\n",
    " top_percentage_mean('Valence', 'Views', 0.75) > df['Valence'].mean())"
   ]
  },
  {
   "attachments": {},
   "cell_type": "markdown",
   "metadata": {},
   "source": [
    "#### Применили функцию top_percentage_mean с параметрами 'Valence', 'Stream' и 0.75 и сравнили их с общим средним. Если четко следовать условию, что и Spotify, и YouTube по Valence должны быть больше среднего, то ответ нет."
   ]
  },
  {
   "attachments": {},
   "cell_type": "markdown",
   "metadata": {
    "collapsed": false
   },
   "source": [
    "#### 10. Какой канал на YouTube имеет наибольшее количество просмотров?"
   ]
  },
  {
   "cell_type": "code",
   "execution_count": 485,
   "metadata": {
    "collapsed": false
   },
   "outputs": [
    {
     "data": {
      "text/plain": [
       "'T-Series'"
      ]
     },
     "execution_count": 485,
     "metadata": {},
     "output_type": "execute_result"
    }
   ],
   "source": [
    "the_most_pivot_sum('Channel', 'Views')"
   ]
  },
  {
   "attachments": {},
   "cell_type": "markdown",
   "metadata": {},
   "source": [
    "#### Использовал функцию the_most_pivot_sum с параметрами 'Channel' и 'Views'"
   ]
  },
  {
   "attachments": {},
   "cell_type": "markdown",
   "metadata": {
    "collapsed": false
   },
   "source": [
    "#### 11. У песни какого исполнителя больше всего комментариев на YouTube?"
   ]
  },
  {
   "cell_type": "code",
   "execution_count": 486,
   "metadata": {
    "collapsed": false
   },
   "outputs": [
    {
     "data": {
      "text/plain": [
       "'BTS'"
      ]
     },
     "execution_count": 486,
     "metadata": {},
     "output_type": "execute_result"
    }
   ],
   "source": [
    "the_most('Artist', 'Comments')"
   ]
  },
  {
   "attachments": {},
   "cell_type": "markdown",
   "metadata": {},
   "source": [
    "#### Используем функцию the_most сортируя колонку 'Artist' по колонке 'Comments', т.к. в нашем датасете все песни уникальны"
   ]
  },
  {
   "attachments": {},
   "cell_type": "markdown",
   "metadata": {
    "collapsed": false
   },
   "source": [
    "#### 12. Какой самый распространенный темп (tempo) песен?"
   ]
  },
  {
   "cell_type": "code",
   "execution_count": 487,
   "metadata": {
    "collapsed": false
   },
   "outputs": [
    {
     "data": {
      "text/plain": [
       "77.986"
      ]
     },
     "execution_count": 487,
     "metadata": {},
     "output_type": "execute_result"
    }
   ],
   "source": [
    "df['Tempo'].mode()[0]"
   ]
  },
  {
   "attachments": {},
   "cell_type": "markdown",
   "metadata": {},
   "source": [
    "#### С помощью функции mode() находим самый распространенный темп песни. Стоит заметить, что результат зависит от точности, с которой мы рассматриваем датасет. Если изменить точность до целых чисел, либо до 1 или 2 знаков после запятой, то самый популярный темп 120.0."
   ]
  },
  {
   "attachments": {},
   "cell_type": "markdown",
   "metadata": {
    "collapsed": false
   },
   "source": [
    "#### 13. Какая песня имеет самый высокий показатель по speechiness?"
   ]
  },
  {
   "cell_type": "code",
   "execution_count": 488,
   "metadata": {
    "collapsed": false
   },
   "outputs": [
    {
     "data": {
      "text/plain": [
       "'Teil 7 - Sherlock Holmes und der blinde Bettler - Die neuen Abenteuer, Folge 50'"
      ]
     },
     "execution_count": 488,
     "metadata": {},
     "output_type": "execute_result"
    }
   ],
   "source": [
    "the_most('Track', 'Speechiness')"
   ]
  },
  {
   "attachments": {},
   "cell_type": "markdown",
   "metadata": {},
   "source": [
    "#### Используем функцию the_most сортируя колонку 'Track' по колонке 'Speechiness'"
   ]
  },
  {
   "attachments": {},
   "cell_type": "markdown",
   "metadata": {
    "collapsed": false
   },
   "source": [
    "#### 14. Какая самая громкая песня в наборе данных?"
   ]
  },
  {
   "cell_type": "code",
   "execution_count": 489,
   "metadata": {
    "collapsed": false
   },
   "outputs": [
    {
     "data": {
      "text/plain": [
       "'Siren'"
      ]
     },
     "execution_count": 489,
     "metadata": {},
     "output_type": "execute_result"
    }
   ],
   "source": [
    "the_most('Track', 'Loudness')"
   ]
  },
  {
   "attachments": {},
   "cell_type": "markdown",
   "metadata": {},
   "source": [
    "#### Используем функцию the_most сортируя колонку 'Track' по колонке 'Loudness'"
   ]
  },
  {
   "attachments": {},
   "cell_type": "markdown",
   "metadata": {
    "collapsed": false
   },
   "source": [
    "#### 15. У какого артиста самый высокий средний балл danceability?"
   ]
  },
  {
   "cell_type": "code",
   "execution_count": 490,
   "metadata": {
    "collapsed": false
   },
   "outputs": [
    {
     "data": {
      "text/plain": [
       "'Saweetie'"
      ]
     },
     "execution_count": 490,
     "metadata": {},
     "output_type": "execute_result"
    }
   ],
   "source": [
    "the_most_pivot_mean('Artist', 'Danceability')"
   ]
  },
  {
   "attachments": {},
   "cell_type": "markdown",
   "metadata": {},
   "source": [
    "#### Использовал функцию the_most_pivot_mean с параметрами 'Artist' и 'Danceability'"
   ]
  },
  {
   "attachments": {},
   "cell_type": "markdown",
   "metadata": {
    "collapsed": false
   },
   "source": [
    "#### 16. Как средний показатель «speechiness» песен зависит от «Album_type»? Песни, выпущенные как синглы, чаще содержат больше слов согласно анализу?"
   ]
  },
  {
   "cell_type": "code",
   "execution_count": 491,
   "metadata": {
    "collapsed": false
   },
   "outputs": [
    {
     "name": "stdout",
     "output_type": "stream",
     "text": [
      "True\n"
     ]
    },
    {
     "data": {
      "text/html": [
       "<div>\n",
       "<style scoped>\n",
       "    .dataframe tbody tr th:only-of-type {\n",
       "        vertical-align: middle;\n",
       "    }\n",
       "\n",
       "    .dataframe tbody tr th {\n",
       "        vertical-align: top;\n",
       "    }\n",
       "\n",
       "    .dataframe thead th {\n",
       "        text-align: right;\n",
       "    }\n",
       "</style>\n",
       "<table border=\"1\" class=\"dataframe\">\n",
       "  <thead>\n",
       "    <tr style=\"text-align: right;\">\n",
       "      <th></th>\n",
       "      <th>Speechiness</th>\n",
       "    </tr>\n",
       "    <tr>\n",
       "      <th>Album_type</th>\n",
       "      <th></th>\n",
       "    </tr>\n",
       "  </thead>\n",
       "  <tbody>\n",
       "    <tr>\n",
       "      <th>single</th>\n",
       "      <td>0.103867</td>\n",
       "    </tr>\n",
       "    <tr>\n",
       "      <th>album</th>\n",
       "      <td>0.094900</td>\n",
       "    </tr>\n",
       "    <tr>\n",
       "      <th>compilation</th>\n",
       "      <td>0.078867</td>\n",
       "    </tr>\n",
       "  </tbody>\n",
       "</table>\n",
       "</div>"
      ],
      "text/plain": [
       "             Speechiness\n",
       "Album_type              \n",
       "single          0.103867\n",
       "album           0.094900\n",
       "compilation     0.078867"
      ]
     },
     "execution_count": 491,
     "metadata": {},
     "output_type": "execute_result"
    }
   ],
   "source": [
    "print(the_most_pivot_mean('Album_type', 'Speechiness') == 'single')\n",
    "pd.pivot_table(df, index = 'Album_type', values = 'Speechiness', aggfunc = np.mean).sort_values(by=['Speechiness'], ascending=False)"
   ]
  },
  {
   "attachments": {},
   "cell_type": "markdown",
   "metadata": {},
   "source": [
    "#### Для ответа на второй вопрос используем функцию the_most_pivot_mean с параметрами 'Album_type' и 'Speechiness' и сравниваем результат со строкой 'single'.\n",
    "#### Для ответа на первый вопрос создаем сводную таблциу индексируя по параметру 'Album_type', ищем среднее арифметическое значение по параметру 'Speechiness', после чего сортируем таблицу по убыванию и возвращаем её. Самый большой средний показатель 'Speechiness' в песнях типа 'single', после чего идет 'album', после - 'compilation'"
   ]
  },
  {
   "attachments": {},
   "cell_type": "markdown",
   "metadata": {
    "collapsed": false
   },
   "source": [
    "#### 17. Каково среднее количество прослушиваний песен, которые входят в топ 10% лучших по метрике танцевальности?"
   ]
  },
  {
   "cell_type": "code",
   "execution_count": 492,
   "metadata": {
    "collapsed": false
   },
   "outputs": [
    {
     "data": {
      "text/plain": [
       "151930059.92221135"
      ]
     },
     "execution_count": 492,
     "metadata": {},
     "output_type": "execute_result"
    }
   ],
   "source": [
    "top_percentage_mean('Stream', 'Danceability', 0.9)"
   ]
  },
  {
   "attachments": {},
   "cell_type": "markdown",
   "metadata": {},
   "source": [
    "#### Применили функцию top_percentage_mean с параметрами 'Stream', 'Danceability' и 0.9"
   ]
  },
  {
   "attachments": {},
   "cell_type": "markdown",
   "metadata": {
    "collapsed": false
   },
   "source": [
    "#### 18. Для песен, которые входят в топ 10% лучших с точки зрения «danceability» метрики, как соотносится их средний показатель «tempo» со средним показателем «tempo» всех песен?"
   ]
  },
  {
   "cell_type": "code",
   "execution_count": 493,
   "metadata": {
    "collapsed": false
   },
   "outputs": [
    {
     "name": "stdout",
     "output_type": "stream",
     "text": [
      "Средний показатель 'Tempo' для топ 10% песен по показателю 'Danceability' = 115.07538602409639\n",
      "Средний показатель 'Tempo' для всего датасета = 120.63833993048851\n"
     ]
    }
   ],
   "source": [
    "print(\"Средний показатель 'Tempo' для топ 10% песен по показателю 'Danceability' = \" + str(top_percentage_mean('Tempo', 'Danceability', 0.9)))\n",
    "print(\"Средний показатель 'Tempo' для всего датасета = \" + str(df['Tempo'].mean()))"
   ]
  },
  {
   "attachments": {},
   "cell_type": "markdown",
   "metadata": {},
   "source": [
    "#### Применили функцию top_percentage_mean с параметрами 'Tempo', 'Danceability' и 0.9 и вывели это на экран. После этого посчитали среднее 'Tempo' для всего датасета и вывели это на экран. В итоге средний показатель 'Tempo' выше для всего датасета, чем для топ 10% по 'Danceability'"
   ]
  },
  {
   "attachments": {},
   "cell_type": "markdown",
   "metadata": {
    "collapsed": false
   },
   "source": [
    "#### 19. Какова корреляция между «valence» метрикой песни и ее популярностью на YouTube (по показателю «Views») и Spotify (по показателю «Stream»)? Счастливые песни более популярны? Valency отвечает за жизнерадостность песни."
   ]
  },
  {
   "cell_type": "code",
   "execution_count": 494,
   "metadata": {
    "collapsed": false
   },
   "outputs": [
    {
     "name": "stdout",
     "output_type": "stream",
     "text": [
      "0.03542303191912835\n",
      "-0.012109291352002146\n"
     ]
    }
   ],
   "source": [
    "print(df[['Valence', 'Views']].corr()['Views'][0])\n",
    "print(df[['Valence', 'Stream']].corr()['Stream'][0])"
   ]
  },
  {
   "attachments": {},
   "cell_type": "markdown",
   "metadata": {},
   "source": [
    "#### С помощью функции corr() получили корреляцию и вывели ее на экран. Для данных параметров она практически отсутствует. Можно сказать, что на YouTube корреляция слегка положительная, а на Spotify слегка отрицательная"
   ]
  },
  {
   "attachments": {},
   "cell_type": "markdown",
   "metadata": {
    "collapsed": false
   },
   "source": [
    "#### 20. Какова средняя громкость песен, которые входят в топ 10% лучших по энергетике (Energy)?"
   ]
  },
  {
   "cell_type": "code",
   "execution_count": 495,
   "metadata": {
    "collapsed": false
   },
   "outputs": [
    {
     "data": {
      "text/plain": [
       "-4.627998091603053"
      ]
     },
     "execution_count": 495,
     "metadata": {},
     "output_type": "execute_result"
    }
   ],
   "source": [
    "top_percentage_mean('Loudness', 'Energy', 0.9)"
   ]
  },
  {
   "attachments": {},
   "cell_type": "markdown",
   "metadata": {},
   "source": [
    "#### Применили функцию top_percentage_mean с параметрами 'Loudness', 'Energy' и 0.9"
   ]
  },
  {
   "attachments": {},
   "cell_type": "markdown",
   "metadata": {
    "collapsed": false
   },
   "source": [
    "#### 21. У какого исполнителя больше всего песен, которые входят в топ-10% как по просмотрам на YouTube, так и по стримам Spotify?"
   ]
  },
  {
   "cell_type": "code",
   "execution_count": 496,
   "metadata": {
    "collapsed": false
   },
   "outputs": [
    {
     "data": {
      "text/plain": [
       "['Ariana Grande',\n",
       " 'Avicii',\n",
       " 'Coldplay',\n",
       " 'Dua Lipa',\n",
       " 'Earth, Wind & Fire',\n",
       " 'Eminem',\n",
       " 'J Balvin',\n",
       " 'Linkin Park',\n",
       " 'Macklemore & Ryan Lewis',\n",
       " 'Maroon 5',\n",
       " 'Post Malone',\n",
       " 'Queen',\n",
       " 'The Mamas & The Papas',\n",
       " 'XXXTENTACION']"
      ]
     },
     "execution_count": 496,
     "metadata": {},
     "output_type": "execute_result"
    }
   ],
   "source": [
    "top_Spotify = df[df['Views'] >= df['Views'].quantile(0.9)][['Track', 'Artist']]\n",
    "top_YouTube = df[df['Stream'] >= df['Stream'].quantile(0.9)][['Track', 'Artist']]\n",
    "\n",
    "common_top = pd.merge(top_Spotify, top_YouTube, left_on = 'Track', right_on = 'Track', how = 'outer').fillna('')\n",
    "\n",
    "common_top['common_top'] = common_top[['Artist_x', 'Artist_y']].apply(lambda x: x[0] if x[0] == x[1] else x[0] + '' + x[1], axis=1)\n",
    "common_top['common_top'].mode().tolist()"
   ]
  },
  {
   "attachments": {},
   "cell_type": "markdown",
   "metadata": {},
   "source": [
    "#### Сначала создавем два новых датафрейма top_Spotify и top_YouTube. Их индексы это имена артистов, а единственная колонка содержит количество песен, которое вошло в топ 10% на Spotify и на YouTube соответственно. Потом объединяем два датафрейма по колонке Track с помощью метода outer merge и заполняем все NaN пустыми строками.\n",
    "#### Складываем два столбца 'Artist_x' и 'Artist_y' в один с таким условием, чтобы имя артиста не повторялось в итоговой колонке 'common_top'.\n",
    "#### После чего находим самые часто встречающиеся имена артистов в колонке 'common_top' и конвертируем из в список."
   ]
  },
  {
   "attachments": {},
   "cell_type": "markdown",
   "metadata": {
    "collapsed": false
   },
   "source": [
    "#### 22. Какова корреляция между «energy» песни и ее «loudness»?"
   ]
  },
  {
   "cell_type": "code",
   "execution_count": 497,
   "metadata": {
    "collapsed": false
   },
   "outputs": [
    {
     "data": {
      "text/plain": [
       "0.7448445555528432"
      ]
     },
     "execution_count": 497,
     "metadata": {},
     "output_type": "execute_result"
    }
   ],
   "source": [
    "df[['Energy', 'Loudness']].corr()['Loudness'][0]"
   ]
  },
  {
   "attachments": {},
   "cell_type": "markdown",
   "metadata": {},
   "source": [
    "#### Используя функцию .corr() для колонок 'Energy' и 'Loudness' находим корреляцию между ними. Наблюдается умеренная корреляция."
   ]
  },
  {
   "attachments": {},
   "cell_type": "markdown",
   "metadata": {
    "collapsed": false
   },
   "source": [
    "#### 23. Каково среднее количество лайков на YouTube для песен, которые находятся в верхнем квартиле (25%) и как это соотносится с общим средним показателем?"
   ]
  },
  {
   "cell_type": "code",
   "execution_count": 498,
   "metadata": {
    "collapsed": false
   },
   "outputs": [
    {
     "name": "stdout",
     "output_type": "stream",
     "text": [
      "2238671.101008104\n",
      "663341.0613074292\n"
     ]
    }
   ],
   "source": [
    "print(top_percentage_mean('Likes', 'Views', 0.75))\n",
    "print(df['Likes'].mean())"
   ]
  },
  {
   "attachments": {},
   "cell_type": "markdown",
   "metadata": {},
   "source": [
    "#### Для поиска среднего количества лайков для песен, которые находятся в верхнем квартиле на YouTube по просмотрам используем функцию top_percentage_mean с параметрами 'Likes', 'Views' и 0.75, если имеется в виду верний квартиль по лайкам, то второй параметр надо заменить на 'Likes'. После чего считаем общее среднее количество лайков с помощью функции .mean(). В среднем, больше лайков у тех песен, которые находятся в верхнем квартиле на YouTube (и по лайкам, и по просмотрам)"
   ]
  },
  {
   "attachments": {},
   "cell_type": "markdown",
   "metadata": {
    "collapsed": false
   },
   "source": [
    "#### 24. Есть ли существенная разница в средней «valence» метрикой для песен, выпущенных как синглы, по сравнению с песнями, выпущенными в виде альбома?"
   ]
  },
  {
   "cell_type": "code",
   "execution_count": 499,
   "metadata": {
    "collapsed": false
   },
   "outputs": [
    {
     "name": "stdout",
     "output_type": "stream",
     "text": [
      "Средняя Valence для album = 0.5297710700884481\n",
      "Средняя Valence для single = 0.5301261410871303\n"
     ]
    }
   ],
   "source": [
    "print(\"Средняя Valence для album = \" + str(pd.pivot_table(df, index = 'Album_type', values = 'Valence', aggfunc = np.mean).loc['album'][0]))\n",
    "print(\"Средняя Valence для single = \" + str(pd.pivot_table(df, index = 'Album_type', values = 'Valence', aggfunc = np.mean).loc['single'][0]))"
   ]
  },
  {
   "attachments": {},
   "cell_type": "markdown",
   "metadata": {},
   "source": [
    "#### Создаем сводную таблциу индексируя по параметру 'Album_type', ищем среднее арифметическое значение по параметру 'Valence', после чего берем элемент из строки 'album' и 'single' и выводим их на экран. Разница в 'Valence' для разных типов песен минимальна."
   ]
  },
  {
   "attachments": {},
   "cell_type": "markdown",
   "metadata": {
    "collapsed": false
   },
   "source": [
    "#### 25. Каково среднее количество «комментариев» на YouTube для песен с показателем «speechiness» выше 0,66 (что указывает на большое количество произнесенных слов) и как это соотносится с общим средним показателем?"
   ]
  },
  {
   "cell_type": "code",
   "execution_count": 500,
   "metadata": {
    "collapsed": false
   },
   "outputs": [
    {
     "name": "stdout",
     "output_type": "stream",
     "text": [
      "334.60550458715596\n",
      "27518.993696957667\n"
     ]
    }
   ],
   "source": [
    "print(df[df['Speechiness'] >= 0.66]['Comments'].mean())\n",
    "print(df['Comments'].mean())"
   ]
  },
  {
   "attachments": {},
   "cell_type": "markdown",
   "metadata": {},
   "source": [
    "#### Отбираем в датасете только те песни, чей 'Speechiness' больше 0.66, после чего считаем среднее количество комментариев. А также считаем общее среднее количество комментариев. В среднем песни, содержащие много слов имеют меньше комментариев."
   ]
  }
 ],
 "metadata": {
  "kernelspec": {
   "display_name": "Python 3",
   "language": "python",
   "name": "python3"
  },
  "language_info": {
   "codemirror_mode": {
    "name": "ipython",
    "version": 3
   },
   "file_extension": ".py",
   "mimetype": "text/x-python",
   "name": "python",
   "nbconvert_exporter": "python",
   "pygments_lexer": "ipython3",
   "version": "3.11.3"
  }
 },
 "nbformat": 4,
 "nbformat_minor": 0
}
